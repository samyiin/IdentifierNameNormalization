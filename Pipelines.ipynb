{
 "cells": [
  {
   "cell_type": "code",
   "execution_count": 1,
   "id": "a4b0eb36-60eb-49d8-97a1-1a2bbfcdbf88",
   "metadata": {
    "ExecuteTime": {
     "end_time": "2025-05-19T15:43:33.373619Z",
     "start_time": "2025-05-19T15:43:33.313029Z"
    }
   },
   "outputs": [],
   "source": [
    "import os\n",
    "# Change it to your drive path where this notebook located.\n",
    "drive_path = '<path_to_this_notebook>'\n",
    "os.chdir(drive_path)\n",
    "# from EnglishDictionary import EnglishDictionary\n",
    "from HardwordParser import HardwordParser\n",
    "from HeuristicSoftwordParser import HeuristicParser\n",
    "from SemanticSoftwordParser import SemanticSoftwordParser\n",
    "\n",
    "hard_word_parser = HardwordParser()\n",
    "\n",
    "heruristic_parser = HeuristicParser()\n",
    "\n",
    "my_openai_apikey = \"<your_openai_apikey>\"\n",
    "semantic_parser = SemanticSoftwordParser(my_openai_apikey)"
   ]
  },
  {
   "cell_type": "markdown",
   "id": "75c5f24d-0f33-4aea-a1b5-c6fdbc24c485",
   "metadata": {},
   "source": [
    "# Poor man's pipeline"
   ]
  },
  {
   "cell_type": "code",
   "execution_count": 2,
   "id": "ee3d3bf6-6295-422f-9462-3e883cedb7ce",
   "metadata": {},
   "outputs": [
    {
     "name": "stdout",
     "output_type": "stream",
     "text": [
      "['example', 'Var', 'Name', 'syslogckpt']\n"
     ]
    }
   ],
   "source": [
    "variable_name = \"exampleVarName_syslogckpt\"\n",
    "softword_list = hard_word_parser.parse_hard_word(variable_name)\n",
    "print(softword_list)"
   ]
  },
  {
   "cell_type": "code",
   "execution_count": 3,
   "id": "41b861aa-2f30-442e-8a8f-a28543dce72e",
   "metadata": {},
   "outputs": [
    {
     "data": {
      "text/plain": [
       "[{'softword': 'example', 'type': 'dictionary', 'expansion': 'example'},\n",
       " {'softword': 'Var', 'type': 'abbreviation', 'expansion': 'variable'},\n",
       " {'softword': 'Name', 'type': 'dictionary', 'expansion': 'Name'},\n",
       " {'softword': 'sys', 'type': 'abbreviation', 'expansion': 'system'},\n",
       " {'softword': 'log', 'type': 'dictionary', 'expansion': 'log'},\n",
       " {'softword': 'ckpt', 'type': 'abbreviation', 'expansion': 'checkpoint'}]"
      ]
     },
     "execution_count": 3,
     "metadata": {},
     "output_type": "execute_result"
    }
   ],
   "source": [
    "split = []\n",
    "for softword in softword_list:\n",
    "    # first try the heuristic parser to save money\n",
    "    interpretation = heruristic_parser.parse(softword)\n",
    "\n",
    "    # try the semantic parser if heuristic parser returns None\n",
    "    if not interpretation:\n",
    "        context = f'This word is used in the Python programming identifier name \"{variable_name}\".'\n",
    "        interpretation = semantic_parser.parse(softword, context)\n",
    "        \n",
    "    split.extend(interpretation['interpretation']['split'])\n",
    "\n",
    "split"
   ]
  },
  {
   "cell_type": "markdown",
   "id": "ecdc19f7-c66b-4dc0-9561-15b18af27cfc",
   "metadata": {},
   "source": [
    "# Rich man's pipeline"
   ]
  },
  {
   "cell_type": "code",
   "execution_count": 4,
   "id": "168dde8d-116d-4b3e-985a-304f34039d1e",
   "metadata": {},
   "outputs": [
    {
     "name": "stdout",
     "output_type": "stream",
     "text": [
      "['another', 'exampleformyglouriouskinglbj']\n"
     ]
    }
   ],
   "source": [
    "variable_name = \"another_exampleformyglouriouskinglbj\"\n",
    "softword_list = hard_word_parser.parse_hard_word(variable_name)\n",
    "print(softword_list)"
   ]
  },
  {
   "cell_type": "code",
   "execution_count": 5,
   "id": "594eb5f5-4488-435d-8271-4982fa20370f",
   "metadata": {},
   "outputs": [
    {
     "data": {
      "text/plain": [
       "[{'softword': 'another', 'type': 'dictionary', 'expansion': 'another'},\n",
       " {'softword': 'example', 'type': 'dictionary', 'expansion': 'example'},\n",
       " {'softword': 'for', 'type': 'dictionary', 'expansion': 'for'},\n",
       " {'softword': 'my', 'type': 'dictionary', 'expansion': 'my'},\n",
       " {'softword': 'glourious', 'type': 'typo', 'expansion': 'glorious'},\n",
       " {'softword': 'king', 'type': 'dictionary', 'expansion': 'king'},\n",
       " {'softword': 'lbj', 'type': 'abbreviation', 'expansion': 'lbj'}]"
      ]
     },
     "execution_count": 5,
     "metadata": {},
     "output_type": "execute_result"
    }
   ],
   "source": [
    "split = []\n",
    "for softword in softword_list:\n",
    "    # directly use the semantic parser\n",
    "    context = f'This word is used in the Python programming identifier name \"{variable_name}\".'\n",
    "    interpretation = semantic_parser.parse(softword, context)\n",
    "    split.extend(interpretation['interpretation']['split'])\n",
    "\n",
    "split"
   ]
  },
  {
   "cell_type": "markdown",
   "id": "7147d661-3a31-413d-9e9a-b5a21a85e809",
   "metadata": {},
   "source": [
    "# Additional features"
   ]
  },
  {
   "cell_type": "code",
   "execution_count": 6,
   "id": "7974e073-a29e-45dc-816d-d85089e44844",
   "metadata": {},
   "outputs": [
    {
     "name": "stdout",
     "output_type": "stream",
     "text": [
      "NamingConvention: camelCase\n"
     ]
    }
   ],
   "source": [
    "# The hardword parser allows you to decide the naming convention of the identifier name\n",
    "print(f\"NamingConvention: {hard_word_parser.classify_naming_convention(\"camelCaseExample\")}\")"
   ]
  },
  {
   "cell_type": "code",
   "execution_count": 7,
   "id": "e59159f9-85ff-471c-90b8-becff4882e93",
   "metadata": {},
   "outputs": [
    {
     "name": "stdout",
     "output_type": "stream",
     "text": [
      "The hardword \"exampleformyglouriouskinglbj\" is quite long and appears to be a concatenation of multiple semantic components. Let's break it down:\n",
      "\n",
      "- \"example\" is a dictionary word.\n",
      "- \"for\" is a dictionary word.\n",
      "- \"my\" is a dictionary word.\n",
      "- \"glourious\" appears to be a typo of the dictionary word \"glorious\".\n",
      "- \"king\" is a dictionary word.\n",
      "- \"lbj\" is most likely an abbreviation or acronym. LBJ commonly refers to Lyndon B. Johnson, a former US president, so it's an abbreviation.\n",
      "\n",
      "Thus, the most likely interpretation is: \"example\" + \"for\" + \"my\" + \"glorious\" (corrected from typo) + \"king\" + \"lbj\".\n",
      "\n",
      "Final interpreted phrase: \"example for my glorious king lbj\".\n",
      "\n",
      "This seems like a meaningful phrase that makes sense as an identifier name.\n",
      "\n",
      "I will now call the interpret_hardword function with these components.\n"
     ]
    }
   ],
   "source": [
    "# The semantic parser can show you the reasoning process of the softword you just parsed\n",
    "print(semantic_parser.get_reasoning_process())"
   ]
  },
  {
   "cell_type": "code",
   "execution_count": null,
   "id": "ce02700e-5b29-40d1-a7c8-27f5d7680f56",
   "metadata": {},
   "outputs": [],
   "source": []
  }
 ],
 "metadata": {
  "kernelspec": {
   "display_name": "Python 3 (ipykernel)",
   "language": "python",
   "name": "python3"
  },
  "language_info": {
   "codemirror_mode": {
    "name": "ipython",
    "version": 3
   },
   "file_extension": ".py",
   "mimetype": "text/x-python",
   "name": "python",
   "nbconvert_exporter": "python",
   "pygments_lexer": "ipython3",
   "version": "3.12.0"
  }
 },
 "nbformat": 4,
 "nbformat_minor": 5
}
